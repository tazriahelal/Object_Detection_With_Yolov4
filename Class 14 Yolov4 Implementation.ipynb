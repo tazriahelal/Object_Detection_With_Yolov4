{
  "cells": [
    {
      "cell_type": "code",
      "source": [
        "!git clone https://github.com/AlexeyAB/darknet\n",
        "%cd darknet"
      ],
      "metadata": {
        "id": "Nodzt5zRR_6X"
      },
      "execution_count": null,
      "outputs": []
    },
    {
      "cell_type": "code",
      "execution_count": 3,
      "metadata": {
        "id": "RUSG5XNxa0Vu"
      },
      "outputs": [],
      "source": [
        "!sed -i 's/OPENCV=0/OPENCV=1/g' Makefile\n",
        "!sed -i 's/GPU=0/GPU=1/g' Makefile\n",
        "!sed -i 's/CUDNN=0/CUDNN=1/g' Makefile\n",
        "!sed -i 's/LIBSO=0/LIBSO=1/g' Makefile"
      ]
    },
    {
      "cell_type": "code",
      "execution_count": null,
      "metadata": {
        "id": "78Iwg2Gsa2yw"
      },
      "outputs": [],
      "source": [
        "!make"
      ]
    },
    {
      "cell_type": "code",
      "source": [
        "!wget https://github.com/AlexeyAB/darknet/releases/download/darknet_yolo_v3_optimal/yolov4.weights"
      ],
      "metadata": {
        "id": "PKpSDJafIJ5_"
      },
      "execution_count": null,
      "outputs": []
    },
    {
      "cell_type": "markdown",
      "metadata": {
        "id": "68VkJbwsnC7W"
      },
      "source": [
        "### Download sample video"
      ]
    },
    {
      "cell_type": "code",
      "execution_count": 6,
      "metadata": {
        "id": "-r98j0-MnGsf"
      },
      "outputs": [],
      "source": [
        "# !wget https://sites of your video.mp4"
      ]
    },
    {
      "cell_type": "code",
      "execution_count": 7,
      "metadata": {
        "id": "PXf_ygkornsx"
      },
      "outputs": [],
      "source": [
        "# import necessary packages\n",
        "from matplotlib import pyplot as plt\n",
        "import cv2\n",
        "\n",
        "def plt_imshow(title, image):\n",
        "\t# convert the image frame BGR to RGB color space and display it\n",
        "\timage = cv2.cvtColor(image, cv2.COLOR_BGR2RGB)\n",
        "\tplt.imshow(image)\n",
        "\tplt.title(title)\n",
        "\tplt.grid(False)\n",
        "\tplt.show()"
      ]
    },
    {
      "cell_type": "code",
      "execution_count": null,
      "metadata": {
        "id": "mqzxyorAsvU0"
      },
      "outputs": [],
      "source": [
        "!python3 darknet_images.py --input data/horses.jpg --weights yolov4.weights --config_file cfg/yolov4.cfg --dont_show"
      ]
    },
    {
      "cell_type": "code",
      "execution_count": null,
      "metadata": {
        "id": "Tq50tkXpsZaA"
      },
      "outputs": [],
      "source": [
        "image = cv2.imread(\"data/horses.jpg\")\n",
        "plt_imshow(\"input image\", image)"
      ]
    },
    {
      "cell_type": "code",
      "execution_count": null,
      "metadata": {
        "id": "ihg_3zaprs6G"
      },
      "outputs": [],
      "source": [
        "image = cv2.imread(\"output_0.png\")\n",
        "plt_imshow(\"output\", image)"
      ]
    },
    {
      "cell_type": "code",
      "source": [
        "!python darknet_video.py --input /content/Road.mp4 --weights yolov4.weights --config_file cfg/yolov4.cfg --dont_show --out_filename /content/output.mp4"
      ],
      "metadata": {
        "id": "tRviz2xLDiKP"
      },
      "execution_count": null,
      "outputs": []
    },
    {
      "cell_type": "code",
      "source": [],
      "metadata": {
        "id": "4XgJPmuxUIxp"
      },
      "execution_count": null,
      "outputs": []
    }
  ],
  "metadata": {
    "accelerator": "GPU",
    "colab": {
      "provenance": []
    },
    "kernelspec": {
      "display_name": "Python 3",
      "language": "python",
      "name": "python3"
    },
    "language_info": {
      "codemirror_mode": {
        "name": "ipython",
        "version": 3
      },
      "file_extension": ".py",
      "mimetype": "text/x-python",
      "name": "python",
      "nbconvert_exporter": "python",
      "pygments_lexer": "ipython3",
      "version": "3.8.5"
    }
  },
  "nbformat": 4,
  "nbformat_minor": 0
}